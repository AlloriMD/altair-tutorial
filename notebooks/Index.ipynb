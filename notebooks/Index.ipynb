{
 "cells": [
  {
   "cell_type": "markdown",
   "metadata": {},
   "source": [
    "# Exploratory Data Visualization with Altair\n",
    "\n",
    "<a href=\"https://altair-viz.github.io/gallery/\"><img src=\"altair-gallery.png\" alt='altair gallery'></a>\n",
    "\n",
    "These notebooks contain an introduction to exploratory data analysis with [Altair](http://altair-viz.github.io).\n",
    "\n",
    "To get Altair and its dependencies installed, please follow the [Installation Instructions](https://altair-viz.github.io/getting_started/installation.html) on Altair's website."
   ]
  },
  {
   "cell_type": "markdown",
   "metadata": {},
   "source": [
    "## Outline\n",
    "\n",
    "### 1. Motivating Altair: Live Demo (30 min)\n",
    "\n",
    "We'll start with a live-coded demo of what it looks like to explore data with Altair.\n",
    "\n",
    "- [01-Cars-Demo.ipynb](01-Cars-Demo.ipynb)\n",
    "\n",
    "This demo will cover a lot of ground very quickly. Don't worry if you feel a bit shaky on some of the concepts; the goal here is a birds-eye overview, and we'll walk-through important concepts in more detail later.\n",
    "\n",
    "### 2. Simple Charts: Core Concepts (30 min)\n",
    "\n",
    "- [02-Simple-Charts.ipynb](02-Simple-Charts.ipynb)\n",
    "\n",
    "Now we dive a little bit deeper, and let you try out a few things:\n",
    "\n",
    "- Data\n",
    "- Mark\n",
    "- Encoding\n",
    "- Encoding Types\n",
    "\n",
    "### 3. Binning and Aggregation\n",
    "\n",
    "- [03-Binning-and-aggregation.ipynb](03-Binning-and-aggregation.ipynb)\n",
    "\n",
    "### 4. Layering and Concatenation\n",
    "\n",
    "- [04-Compound-charts.ipynb](04-Compound-charts.ipynb)\n",
    "   \n",
    "### 5. Exploring a Dataset!\n",
    "\n",
    "- [05-Exploring.ipynb](05-Exploring.ipynb)\n",
    "   "
   ]
  },
  {
   "cell_type": "markdown",
   "metadata": {},
   "source": [
    "---\n",
    "\n",
    "*Afternoon Break*\n",
    "\n",
    "---"
   ]
  },
  {
   "cell_type": "markdown",
   "metadata": {},
   "source": [
    "### 6. Selections: making things interactive (30min)\n",
    "\n",
    "- [06-Selections.ipynb](06-Selections.ipynb)\n",
    "\n",
    "### 7. Transformations: Data streams within the chart spec (10 min)\n",
    "\n",
    "- [07-Transformations.ipynb](07-Transformations.ipynb)\n",
    "\n",
    "### 8. Config: Adjusting your Charts (10 min)\n",
    "\n",
    "- [08-Configuration.ipynb](08-Configuration.ipynb)\n",
    "\n",
    "### 9. Geographic Charts: Maps (10 min)\n",
    "\n",
    "- [09-Geographic-plots.ipynb](09-Geographic-plots.ipynb)\n",
    "\n",
    "### 7. Try it out! (30 min)\n",
    "\n",
    "- Work with your partner to create a visualization"
   ]
  }
 ],
 "metadata": {
  "kernelspec": {
   "display_name": "Python 3",
   "language": "python",
   "name": "python3"
  },
  "language_info": {
   "codemirror_mode": {
    "name": "ipython",
    "version": 3
   },
   "file_extension": ".py",
   "mimetype": "text/x-python",
   "name": "python",
   "nbconvert_exporter": "python",
   "pygments_lexer": "ipython3",
   "version": "3.6.5"
  }
 },
 "nbformat": 4,
 "nbformat_minor": 2
}
