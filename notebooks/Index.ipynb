{
 "cells": [
  {
   "cell_type": "markdown",
   "metadata": {},
   "source": [
    "# Exploratory Data Visualization with Altair\n",
    "\n",
    "<a href=\"https://altair-viz.github.io/gallery/\"><img src=\"altair-gallery.png\" alt='altair gallery'></a>\n",
    "\n",
    "These notebooks contain an introduction to exploratory data analysis with [Altair](http://altair-viz.github.io).\n",
    "\n",
    "To get Altair and its dependencies installed, please follow the [Installation Instructions](https://altair-viz.github.io/getting_started/installation.html) on Altair's website."
   ]
  },
  {
   "cell_type": "markdown",
   "metadata": {},
   "source": [
    "## Outline\n",
    "\n",
    "### 1. Motivating Altair: Live Demo (30 min)\n",
    "\n",
    "[01-Cars-Demo.ipynb](01-Cars-Demo.ipynb)\n",
    "\n",
    "We'll start with a live-coded demo of what it looks like to explore data with Altair.\n",
    "\n",
    "This demo will cover a lot of ground very quickly. Don't worry if you feel a bit shaky on some of the concepts; the goal here is a birds-eye overview, and we'll walk-through important concepts in more detail later.\n",
    "\n",
    "### 2. Simple Charts: Core Concepts (30 min)\n",
    "\n",
    "- Basic chart: Data, Mark, and Encoding\n",
    "- Data\n",
    "- Mark\n",
    "- Encoding\n",
    "- Encoding Types\n",
    "- Choose your dataset\n",
    "   \n",
    "### 3. Compound Charts: Layering & Composition (30 min)\n",
    "\n",
    "- Layer\n",
    "- VConcat\n",
    "- HConcat\n",
    "- Facet?\n",
    "- Repeat?\n",
    "   \n",
    "---\n",
    "\n",
    "*Afternoon Break*\n",
    "\n",
    "---\n",
    "\n",
    "### 4. Selections: making things interactive (30min)\n",
    "\n",
    "- Selection types: interval, single, multi\n",
    "\n",
    "### 5. Geographic Charts: Maps (10 min)\n",
    "\n",
    "- Choropleth Maps\n",
    "- Lat/Long maps\n",
    "- Layered geographic maps\n",
    "\n",
    "### 6. Chart Configurations (10 min)\n",
    "\n",
    "- A few examples of configuring charts\n",
    "\n",
    "### 6. Try it out!\n",
    "\n",
    "- Work with your partner to create a visualization"
   ]
  },
  {
   "cell_type": "code",
   "execution_count": null,
   "metadata": {},
   "outputs": [],
   "source": []
  }
 ],
 "metadata": {
  "kernelspec": {
   "display_name": "Python 3",
   "language": "python",
   "name": "python3"
  },
  "language_info": {
   "codemirror_mode": {
    "name": "ipython",
    "version": 3
   },
   "file_extension": ".py",
   "mimetype": "text/x-python",
   "name": "python",
   "nbconvert_exporter": "python",
   "pygments_lexer": "ipython3",
   "version": "3.6.5"
  }
 },
 "nbformat": 4,
 "nbformat_minor": 2
}
