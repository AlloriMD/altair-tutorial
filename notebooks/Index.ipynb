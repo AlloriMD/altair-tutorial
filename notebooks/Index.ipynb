{
 "cells": [
  {
   "cell_type": "markdown",
   "metadata": {},
   "source": [
    "# Exploratory Data Visualization with Altair\n",
    "\n",
    "<a href=\"https://altair-viz.github.io/gallery/\"><img src=\"altair-gallery.png\" alt='altair gallery'></a>\n",
    "\n",
    "These notebooks contain an introduction to exploratory data analysis with [Altair](http://altair-viz.github.io).\n",
    "\n",
    "To get Altair and its dependencies installed, please follow the [Installation Instructions](https://altair-viz.github.io/getting_started/installation.html) on Altair's website."
   ]
  },
  {
   "cell_type": "markdown",
   "metadata": {},
   "source": [
    "## Outline\n",
    "\n",
    "### 1. Motivating Altair: Live Demo (30 min)\n",
    "\n",
    "We'll start with a live-coded demo of what it looks like to explore data with Altair.\n",
    "\n",
    "- [01-Cars-Demo.ipynb](01-Cars-Demo.ipynb)\n",
    "\n",
    "This demo will cover a lot of ground very quickly. Don't worry if you feel a bit shaky on some of the concepts; the goal here is a birds-eye overview, and we'll walk-through important concepts in more detail later.\n",
    "\n",
    "### 2. Simple Charts: Core Concepts (30 min)\n",
    "\n",
    "Now we dive a little bit deeper, and let you try out a few things:\n",
    "\n",
    "\n",
    "- Data\n",
    "- Mark\n",
    "- Encoding\n",
    "- Encoding Types\n",
    "\n",
    "### 3. Binning and Aggregation\n",
    "\n",
    "- Binning and Aggregation\n",
    "\n",
    "### 4. Layering and Concatenation\n",
    "\n",
    "- Layering and Concatenation\n",
    "   \n",
    "### 5. Exploring a Dataset!\n",
    "\n",
    "- Layer\n",
    "- VConcat\n",
    "- HConcat\n",
    "- Facet?\n",
    "- Repeat?\n",
    "   "
   ]
  },
  {
   "cell_type": "markdown",
   "metadata": {},
   "source": [
    "---\n",
    "\n",
    "*Afternoon Break*\n",
    "\n",
    "---"
   ]
  },
  {
   "cell_type": "markdown",
   "metadata": {},
   "source": [
    "### 4. Selections: making things interactive (30min)\n",
    "\n",
    "- Selection types: interval, single, multi\n",
    "\n",
    "### 5. Geographic Charts: Maps (10 min)\n",
    "\n",
    "- Choropleth Maps\n",
    "- Lat/Long maps\n",
    "- Layered geographic maps\n",
    "\n",
    "### 6. Chart Configurations (10 min)\n",
    "\n",
    "- A few examples of configuring charts\n",
    "\n",
    "### 7. Try it out! (30 min)\n",
    "\n",
    "- Work with your partner to create a visualization"
   ]
  }
 ],
 "metadata": {
  "kernelspec": {
   "display_name": "Python 3",
   "language": "python",
   "name": "python3"
  },
  "language_info": {
   "codemirror_mode": {
    "name": "ipython",
    "version": 3
   },
   "file_extension": ".py",
   "mimetype": "text/x-python",
   "name": "python",
   "nbconvert_exporter": "python",
   "pygments_lexer": "ipython3",
   "version": "3.6.5"
  }
 },
 "nbformat": 4,
 "nbformat_minor": 2
}
