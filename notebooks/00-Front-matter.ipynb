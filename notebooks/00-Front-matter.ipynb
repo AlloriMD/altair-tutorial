{
 "cells": [
  {
   "cell_type": "markdown",
   "metadata": {},
   "source": [
    "## Notes from Dom\n",
    "\n",
    "Grammar of Graphics\n",
    "\n",
    "Grammar of graphics building blocks:\n",
    "\n",
    "1. data\n",
    "2. transformation\n",
    "3. marks\n",
    "4. encoding (mapping from fields to mark properties)\n",
    "5. Scale – functions that map data to visual scales\n",
    "6. Guides – visualization of scales (axes, legends, etc.)"
   ]
  },
  {
   "cell_type": "markdown",
   "metadata": {},
   "source": [
    "Vega -> Vega-Lite -> Altair"
   ]
  }
 ],
 "metadata": {
  "kernelspec": {
   "display_name": "Python 3",
   "language": "python",
   "name": "python3"
  },
  "language_info": {
   "codemirror_mode": {
    "name": "ipython",
    "version": 3
   },
   "file_extension": ".py",
   "mimetype": "text/x-python",
   "name": "python",
   "nbconvert_exporter": "python",
   "pygments_lexer": "ipython3",
   "version": "3.6.5"
  }
 },
 "nbformat": 4,
 "nbformat_minor": 2
}
