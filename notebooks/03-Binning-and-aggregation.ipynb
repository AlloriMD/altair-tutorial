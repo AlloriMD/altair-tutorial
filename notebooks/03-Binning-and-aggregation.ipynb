{
 "cells": [
  {
   "cell_type": "markdown",
   "metadata": {},
   "source": [
    "## Binning and Aggregation\n",
    "\n",
    "We have discussed **data**, **marks**, **encodings**, and **encoding types**.\n",
    "The next essential piece of Altair's API is its approach to binning and aggregating data"
   ]
  },
  {
   "cell_type": "code",
   "execution_count": 108,
   "metadata": {},
   "outputs": [],
   "source": [
    "import altair as alt\n",
    "\n",
    "# Altair plots render by default in JupyterLab and nteract\n",
    "\n",
    "# Uncomment/run this line to enable Altair in the classic notebook (not in JupyterLab)\n",
    "# alt.renderers.enable('notebook')\n",
    "\n",
    "# Uncomment/run this line to enable Altair in Colab\n",
    "# alt.renderers.enable('colab')"
   ]
  },
  {
   "cell_type": "code",
   "execution_count": 109,
   "metadata": {},
   "outputs": [
    {
     "data": {
      "text/html": [
       "<div>\n",
       "<style scoped>\n",
       "    .dataframe tbody tr th:only-of-type {\n",
       "        vertical-align: middle;\n",
       "    }\n",
       "\n",
       "    .dataframe tbody tr th {\n",
       "        vertical-align: top;\n",
       "    }\n",
       "\n",
       "    .dataframe thead th {\n",
       "        text-align: right;\n",
       "    }\n",
       "</style>\n",
       "<table border=\"1\" class=\"dataframe\">\n",
       "  <thead>\n",
       "    <tr style=\"text-align: right;\">\n",
       "      <th></th>\n",
       "      <th>Acceleration</th>\n",
       "      <th>Cylinders</th>\n",
       "      <th>Displacement</th>\n",
       "      <th>Horsepower</th>\n",
       "      <th>Miles_per_Gallon</th>\n",
       "      <th>Name</th>\n",
       "      <th>Origin</th>\n",
       "      <th>Weight_in_lbs</th>\n",
       "      <th>Year</th>\n",
       "    </tr>\n",
       "  </thead>\n",
       "  <tbody>\n",
       "    <tr>\n",
       "      <th>0</th>\n",
       "      <td>12.0</td>\n",
       "      <td>8</td>\n",
       "      <td>307.0</td>\n",
       "      <td>130.0</td>\n",
       "      <td>18.0</td>\n",
       "      <td>chevrolet chevelle malibu</td>\n",
       "      <td>USA</td>\n",
       "      <td>3504</td>\n",
       "      <td>1970-01-01</td>\n",
       "    </tr>\n",
       "    <tr>\n",
       "      <th>1</th>\n",
       "      <td>11.5</td>\n",
       "      <td>8</td>\n",
       "      <td>350.0</td>\n",
       "      <td>165.0</td>\n",
       "      <td>15.0</td>\n",
       "      <td>buick skylark 320</td>\n",
       "      <td>USA</td>\n",
       "      <td>3693</td>\n",
       "      <td>1970-01-01</td>\n",
       "    </tr>\n",
       "    <tr>\n",
       "      <th>2</th>\n",
       "      <td>11.0</td>\n",
       "      <td>8</td>\n",
       "      <td>318.0</td>\n",
       "      <td>150.0</td>\n",
       "      <td>18.0</td>\n",
       "      <td>plymouth satellite</td>\n",
       "      <td>USA</td>\n",
       "      <td>3436</td>\n",
       "      <td>1970-01-01</td>\n",
       "    </tr>\n",
       "    <tr>\n",
       "      <th>3</th>\n",
       "      <td>12.0</td>\n",
       "      <td>8</td>\n",
       "      <td>304.0</td>\n",
       "      <td>150.0</td>\n",
       "      <td>16.0</td>\n",
       "      <td>amc rebel sst</td>\n",
       "      <td>USA</td>\n",
       "      <td>3433</td>\n",
       "      <td>1970-01-01</td>\n",
       "    </tr>\n",
       "    <tr>\n",
       "      <th>4</th>\n",
       "      <td>10.5</td>\n",
       "      <td>8</td>\n",
       "      <td>302.0</td>\n",
       "      <td>140.0</td>\n",
       "      <td>17.0</td>\n",
       "      <td>ford torino</td>\n",
       "      <td>USA</td>\n",
       "      <td>3449</td>\n",
       "      <td>1970-01-01</td>\n",
       "    </tr>\n",
       "  </tbody>\n",
       "</table>\n",
       "</div>"
      ],
      "text/plain": [
       "   Acceleration  Cylinders  Displacement  Horsepower  Miles_per_Gallon  \\\n",
       "0          12.0          8         307.0       130.0              18.0   \n",
       "1          11.5          8         350.0       165.0              15.0   \n",
       "2          11.0          8         318.0       150.0              18.0   \n",
       "3          12.0          8         304.0       150.0              16.0   \n",
       "4          10.5          8         302.0       140.0              17.0   \n",
       "\n",
       "                        Name Origin  Weight_in_lbs       Year  \n",
       "0  chevrolet chevelle malibu    USA           3504 1970-01-01  \n",
       "1          buick skylark 320    USA           3693 1970-01-01  \n",
       "2         plymouth satellite    USA           3436 1970-01-01  \n",
       "3              amc rebel sst    USA           3433 1970-01-01  \n",
       "4                ford torino    USA           3449 1970-01-01  "
      ]
     },
     "execution_count": 109,
     "metadata": {},
     "output_type": "execute_result"
    }
   ],
   "source": [
    "from vega_datasets import data\n",
    "cars = data.cars()\n",
    "\n",
    "cars.head()"
   ]
  },
  {
   "cell_type": "markdown",
   "metadata": {},
   "source": [
    "### Group-By in Pandas\n",
    "\n",
    "One key operation in data exploration is the *group-by*, discussed in detail in [Chaper 4](https://jakevdp.github.io/PythonDataScienceHandbook/03.08-aggregation-and-grouping.html) of the *Python Data Science Handbook*.\n",
    "In short, the group-by *splits* the data according to some condition, *applies* some aggregation within those groups, and then *combines* the data back together:\n",
    "\n",
    "<img src=\"split-apply-combine.png\">\n",
    "<small>[Figure source](https://jakevdp.github.io/PythonDataScienceHandbook/03.08-aggregation-and-grouping.html)</small>"
   ]
  },
  {
   "cell_type": "markdown",
   "metadata": {},
   "source": [
    "For the cars data, you might split by Origin, compute the mean of the miles per gallon, and then combine the results.\n",
    "In Pandas, the operation looks like this:"
   ]
  },
  {
   "cell_type": "code",
   "execution_count": 110,
   "metadata": {},
   "outputs": [
    {
     "data": {
      "text/plain": [
       "Origin\n",
       "Europe    27.891429\n",
       "Japan     30.450633\n",
       "USA       20.083534\n",
       "Name: Miles_per_Gallon, dtype: float64"
      ]
     },
     "execution_count": 110,
     "metadata": {},
     "output_type": "execute_result"
    }
   ],
   "source": [
    "cars.groupby('Origin')['Miles_per_Gallon'].mean()"
   ]
  },
  {
   "cell_type": "markdown",
   "metadata": {},
   "source": [
    "In Altair, this sort of split-apply-combine can be performed by passing an aggregation operator within a string to any encoding. For example, we can display a plot representing the above aggregation as follows:"
   ]
  },
  {
   "cell_type": "code",
   "execution_count": 111,
   "metadata": {},
   "outputs": [
    {
     "data": {
      "application/vnd.vegalite.v2+json": {
       "$schema": "https://vega.github.io/schema/vega-lite/v2.4.1.json",
       "config": {
        "view": {
         "height": 300,
         "width": 400
        }
       },
       "data": {
        "format": {
         "type": "json"
        },
        "url": "altair-data-62a73ea0-c6ec-412a-90e5-27fa3dc3d046.json"
       },
       "encoding": {
        "x": {
         "aggregate": "mean",
         "field": "Miles_per_Gallon",
         "type": "quantitative"
        },
        "y": {
         "field": "Origin",
         "type": "nominal"
        }
       },
       "mark": "bar"
      },
      "image/png": "[encoded data removed]",
      "text/plain": [
       "<VegaLite 2 object>\n",
       "\n",
       "If you see this message, it means the renderer has not been properly enabled\n",
       "for the frontend that you are using. For more information, see\n",
       "https://altair-viz.github.io/user_guide/troubleshooting.html\n"
      ]
     },
     "execution_count": 111,
     "metadata": {
      "application/vnd.vegalite.v2+json": {
       "max_rows": null
      }
     },
     "output_type": "execute_result"
    }
   ],
   "source": [
    "alt.Chart(cars).mark_bar().encode(\n",
    "    y='Origin',\n",
    "    x='mean(Miles_per_Gallon)'\n",
    ")"
   ]
  },
  {
   "cell_type": "markdown",
   "metadata": {},
   "source": [
    "Notice that the grouping is done implicitly within the encodings: here we group only by Origin, then compute the mean over each group."
   ]
  },
  {
   "cell_type": "markdown",
   "metadata": {},
   "source": [
    "### One-dimensional Binnings: Histograms\n",
    "\n",
    "One of the most common uses of binning is the creation of histograms. For example, here is a histogram of miles per gallon:"
   ]
  },
  {
   "cell_type": "code",
   "execution_count": 127,
   "metadata": {},
   "outputs": [
    {
     "data": {
      "application/vnd.vegalite.v2+json": {
       "$schema": "https://vega.github.io/schema/vega-lite/v2.4.1.json",
       "config": {
        "view": {
         "height": 300,
         "width": 400
        }
       },
       "data": {
        "format": {
         "type": "json"
        },
        "url": "altair-data-b8a4474f-eb1a-4642-a41c-5c5ca82517a3.json"
       },
       "encoding": {
        "color": {
         "field": "Origin",
         "type": "nominal"
        },
        "x": {
         "bin": true,
         "field": "Miles_per_Gallon",
         "type": "quantitative"
        },
        "y": {
         "aggregate": "count",
         "type": "quantitative"
        }
       },
       "mark": "bar"
      },
      "image/png": "[encoded data removed]",
      "text/plain": [
       "<VegaLite 2 object>\n",
       "\n",
       "If you see this message, it means the renderer has not been properly enabled\n",
       "for the frontend that you are using. For more information, see\n",
       "https://altair-viz.github.io/user_guide/troubleshooting.html\n"
      ]
     },
     "execution_count": 127,
     "metadata": {
      "application/vnd.vegalite.v2+json": {
       "max_rows": null
      }
     },
     "output_type": "execute_result"
    }
   ],
   "source": [
    "alt.Chart(cars).mark_bar().encode(\n",
    "    alt.X('Miles_per_Gallon', bin=True),\n",
    "    alt.Y('count()'),\n",
    "    alt.Color('Origin')\n",
    ")"
   ]
  },
  {
   "cell_type": "markdown",
   "metadata": {},
   "source": [
    "One interesting thing that Altair's declarative approach allows is to start assigning these values to different encodings, to see other views of the exact same data.\n",
    "\n",
    "So, for example, if we assign the binned miles per gallon to the color, we get this view of the data:"
   ]
  },
  {
   "cell_type": "code",
   "execution_count": 117,
   "metadata": {},
   "outputs": [
    {
     "data": {
      "application/vnd.vegalite.v2+json": {
       "$schema": "https://vega.github.io/schema/vega-lite/v2.4.1.json",
       "config": {
        "view": {
         "height": 300,
         "width": 400
        }
       },
       "data": {
        "format": {
         "type": "json"
        },
        "url": "altair-data-44f9c69c-0641-4e3b-9def-c406ffa40a13.json"
       },
       "encoding": {
        "color": {
         "bin": true,
         "field": "Miles_per_Gallon",
         "type": "quantitative"
        },
        "x": {
         "aggregate": "count",
         "type": "quantitative"
        },
        "y": {
         "field": "Origin",
         "type": "nominal"
        }
       },
       "mark": "bar"
      },
      "image/png": "[encoded data removed]",
      "text/plain": [
       "<VegaLite 2 object>\n",
       "\n",
       "If you see this message, it means the renderer has not been properly enabled\n",
       "for the frontend that you are using. For more information, see\n",
       "https://altair-viz.github.io/user_guide/troubleshooting.html\n"
      ]
     },
     "execution_count": 117,
     "metadata": {
      "application/vnd.vegalite.v2+json": {
       "max_rows": null
      }
     },
     "output_type": "execute_result"
    }
   ],
   "source": [
    "alt.Chart(cars).mark_bar().encode(\n",
    "    alt.Color('Miles_per_Gallon', bin=True),\n",
    "    alt.X('count()'),\n",
    "    alt.Y('Origin')\n",
    ")"
   ]
  },
  {
   "cell_type": "markdown",
   "metadata": {},
   "source": [
    "This gives us a better appreciation of the proportion of MPG *within* each country.\n",
    "\n",
    "If we wish, we can normalize the counts on the x-axis to compare proportions directly:"
   ]
  },
  {
   "cell_type": "code",
   "execution_count": 126,
   "metadata": {},
   "outputs": [
    {
     "data": {
      "application/vnd.vegalite.v2+json": {
       "$schema": "https://vega.github.io/schema/vega-lite/v2.4.1.json",
       "config": {
        "view": {
         "height": 300,
         "width": 400
        }
       },
       "data": {
        "format": {
         "type": "json"
        },
        "url": "altair-data-08f2ef4b-c421-4d76-a0e6-4e1016aafad3.json"
       },
       "encoding": {
        "color": {
         "bin": true,
         "field": "Miles_per_Gallon",
         "type": "quantitative"
        },
        "x": {
         "aggregate": "count",
         "stack": "normalize",
         "type": "quantitative"
        },
        "y": {
         "field": "Origin",
         "type": "nominal"
        }
       },
       "mark": "bar"
      },
      "image/png": "[encoded data removed]",
      "text/plain": [
       "<VegaLite 2 object>\n",
       "\n",
       "If you see this message, it means the renderer has not been properly enabled\n",
       "for the frontend that you are using. For more information, see\n",
       "https://altair-viz.github.io/user_guide/troubleshooting.html\n"
      ]
     },
     "execution_count": 126,
     "metadata": {
      "application/vnd.vegalite.v2+json": {
       "max_rows": null
      }
     },
     "output_type": "execute_result"
    }
   ],
   "source": [
    "alt.Chart(cars).mark_bar().encode(\n",
    "    color=alt.Color('Miles_per_Gallon', bin=True),\n",
    "    x=alt.X('count()', stack='normalize'),\n",
    "    y='Origin'\n",
    ")"
   ]
  },
  {
   "cell_type": "markdown",
   "metadata": {},
   "source": [
    "We see that well over half of US cars were in the \"low mileage\" category.\n",
    "\n",
    "Changing the encoding again, let's map the color to the count instead:"
   ]
  },
  {
   "cell_type": "code",
   "execution_count": 123,
   "metadata": {},
   "outputs": [
    {
     "data": {
      "application/vnd.vegalite.v2+json": {
       "$schema": "https://vega.github.io/schema/vega-lite/v2.4.1.json",
       "config": {
        "view": {
         "height": 300,
         "width": 400
        }
       },
       "data": {
        "format": {
         "type": "json"
        },
        "url": "altair-data-ead0c706-68d8-4058-b75e-c6e85de633fe.json"
       },
       "encoding": {
        "color": {
         "aggregate": "count",
         "type": "quantitative"
        },
        "x": {
         "bin": {
          "maxbins": 20
         },
         "field": "Miles_per_Gallon",
         "type": "quantitative"
        },
        "y": {
         "field": "Origin",
         "type": "nominal"
        }
       },
       "mark": "rect"
      },
      "image/png": "[encoded data removed]",
      "text/plain": [
       "<VegaLite 2 object>\n",
       "\n",
       "If you see this message, it means the renderer has not been properly enabled\n",
       "for the frontend that you are using. For more information, see\n",
       "https://altair-viz.github.io/user_guide/troubleshooting.html\n"
      ]
     },
     "execution_count": 123,
     "metadata": {
      "application/vnd.vegalite.v2+json": {
       "max_rows": null
      }
     },
     "output_type": "execute_result"
    }
   ],
   "source": [
    "alt.Chart(cars).mark_rect().encode(\n",
    "    alt.X('Miles_per_Gallon', bin=alt.Bin(maxbins=20)),\n",
    "    alt.Color('count()'),\n",
    "    alt.Y('Origin'),\n",
    ")"
   ]
  },
  {
   "cell_type": "markdown",
   "metadata": {},
   "source": [
    "Now we see the same dataset as a heat map!\n",
    "\n",
    "This is one of the beautiful things about Altair: it shows you through its API grammar the relationships between different chart types: for example, a 2D heatmap encodes the same data as a stacked histogram!"
   ]
  },
  {
   "cell_type": "markdown",
   "metadata": {},
   "source": [
    "### Other aggregates"
   ]
  },
  {
   "cell_type": "markdown",
   "metadata": {},
   "source": [
    "Aggregates can also be used with data that is only implicitly binned.\n",
    "For example, look at this plot of MPG over time:"
   ]
  },
  {
   "cell_type": "code",
   "execution_count": null,
   "metadata": {},
   "outputs": [],
   "source": [
    "alt.Chart(cars).mark_point().encode(\n",
    "    x='Year:T',\n",
    "    color='Origin',\n",
    "    y='Miles_per_Gallon'\n",
    ")"
   ]
  },
  {
   "cell_type": "markdown",
   "metadata": {},
   "source": [
    "The fact that the points overlap so much makes it difficult to see important parts of the data; we can make it clearer by plotting the mean in each group (here, the mean of each Year/Country combination):"
   ]
  },
  {
   "cell_type": "code",
   "execution_count": null,
   "metadata": {},
   "outputs": [],
   "source": [
    "alt.Chart(cars).mark_line().encode(\n",
    "    x='Year:T',\n",
    "    color='Origin',\n",
    "    y='mean(Miles_per_Gallon)'\n",
    ")"
   ]
  },
  {
   "cell_type": "markdown",
   "metadata": {},
   "source": [
    "The ``mean`` aggregate only tells part of the story, though: Altair also provides built-in tools to compute the lower and upper bounds of confidence intervals on the mean.\n",
    "\n",
    "We can use ``mark_area()`` here, and specify the lower and upper bounds of the area using ``y`` and ``y2``:"
   ]
  },
  {
   "cell_type": "code",
   "execution_count": null,
   "metadata": {},
   "outputs": [],
   "source": [
    "alt.Chart(cars).mark_area(opacity=0.3).encode(\n",
    "    x='Year:T',\n",
    "    color='Origin',\n",
    "    y='ci0(Miles_per_Gallon)',\n",
    "    y2='ci1(Miles_per_Gallon)'\n",
    ")"
   ]
  },
  {
   "cell_type": "markdown",
   "metadata": {},
   "source": [
    "## Time Binnings with ``timeUnit``\n",
    "\n",
    "One special kind of binning is the grouping of temporal values by aspects of the date: for example, month of year, or day of months.\n",
    "To explore this, let's look at a simple dataset consisting of average temperatures in Seattle:"
   ]
  },
  {
   "cell_type": "code",
   "execution_count": null,
   "metadata": {},
   "outputs": [],
   "source": [
    "temps = data.seattle_temps()\n",
    "temps.head()"
   ]
  },
  {
   "cell_type": "markdown",
   "metadata": {},
   "source": [
    "If we try to plot this data with Altair, we will get a ``MaxRowsError``:"
   ]
  },
  {
   "cell_type": "code",
   "execution_count": null,
   "metadata": {},
   "outputs": [],
   "source": [
    "alt.Chart(temps).mark_line().encode(\n",
    "    x='date:T',\n",
    "    y='temp:Q'\n",
    ")"
   ]
  },
  {
   "cell_type": "code",
   "execution_count": null,
   "metadata": {},
   "outputs": [],
   "source": [
    "len(temps)"
   ]
  },
  {
   "cell_type": "markdown",
   "metadata": {},
   "source": [
    "### Aside: How Altair Encodes Data\n",
    "\n",
    "We chose to raise a MaxRowsError for datasets larger than 5000 rows because of our observation of students using Altair, because unless you think about how your data is being represented, it's quite easy to end up with **very** large notebooks inwhich performance will suffer.\n",
    "\n",
    "When you pass a pandas dataframe to an Altair chart, the result is that the data is converted to JSON and stored in the chart specification. This specification is then embedded in the output of your notebook, and if you make a few dozen charts this way with a large enough dataset, it can significantly slow down your machine.\n",
    "\n",
    "So how to get around the error? A few ways:\n",
    "\n",
    "1) Use a smaller dataset. For example, we could use Pandas to aggregate the temperatures by day:\n",
    "   ```python\n",
    "   import pandas as pd\n",
    "   temps = temps.groupby(pd.DatetimeIndex(temps.date).date).mean().reset_index()\n",
    "   ```\n",
    "\n",
    "2) Store the data to file, and reference the data by filename instead. This lets us plot the full dataset without having to embed it in the notebook.\n",
    "\n",
    "3) Disable the MaxRowsError using\n",
    "   ```python\n",
    "   alt.data_transformers.enable('default', max_rows=None)\n",
    "   ```\n",
    "   But note this can lead to *very* large notebooks if you're not careful.\n",
    "\n",
    "4) Automatically load the data from disk using\n",
    "   ```python\n",
    "   alt.data_transformers.enable('json')\n",
    "   ```\n",
    "   which will automatically save the data to file and provide the url of that file to the chart each time a chart is created.\n"
   ]
  },
  {
   "cell_type": "markdown",
   "metadata": {},
   "source": [
    "We'll do the latter here, which is the most convenient and leads to the best performance:"
   ]
  },
  {
   "cell_type": "code",
   "execution_count": null,
   "metadata": {},
   "outputs": [],
   "source": [
    "alt.data_transformers.enable('json')"
   ]
  },
  {
   "cell_type": "code",
   "execution_count": null,
   "metadata": {},
   "outputs": [],
   "source": [
    "alt.Chart(temps).mark_line().to_dict()"
   ]
  },
  {
   "cell_type": "code",
   "execution_count": null,
   "metadata": {},
   "outputs": [],
   "source": [
    "alt.Chart(temps).mark_line().encode(\n",
    "    x='date:T',\n",
    "    y='temp:Q'\n",
    ")"
   ]
  },
  {
   "cell_type": "markdown",
   "metadata": {},
   "source": [
    "This data is a little bit crowded; suppose we would like to bin this data by month. We'll do this using the ``timeUnit`` argument on the date:"
   ]
  },
  {
   "cell_type": "code",
   "execution_count": null,
   "metadata": {},
   "outputs": [],
   "source": [
    "alt.Chart(temps).mark_point().encode(\n",
    "    x=alt.X('date:T', timeUnit='month'),\n",
    "    y='temp:Q'\n",
    ")"
   ]
  },
  {
   "cell_type": "markdown",
   "metadata": {},
   "source": [
    "This might be clearer if we now aggregate the temperatures:"
   ]
  },
  {
   "cell_type": "code",
   "execution_count": null,
   "metadata": {},
   "outputs": [],
   "source": [
    "alt.Chart(temps).mark_bar().encode(\n",
    "    x=alt.X('date:O', timeUnit='month'),\n",
    "    y='mean(temp):Q'\n",
    ")"
   ]
  },
  {
   "cell_type": "markdown",
   "metadata": {},
   "source": [
    "We can also split dates two different ways to produce interesting views of the data; for example:"
   ]
  },
  {
   "cell_type": "code",
   "execution_count": null,
   "metadata": {},
   "outputs": [],
   "source": [
    "alt.Chart(temps).mark_rect().encode(\n",
    "    x=alt.X('date:O', timeUnit='date'),\n",
    "    y=alt.Y('date:O', timeUnit='month'),\n",
    "    color='mean(temp):Q'\n",
    ")"
   ]
  },
  {
   "cell_type": "markdown",
   "metadata": {},
   "source": [
    "Or we can look at the hourly average temperature as a function of month:"
   ]
  },
  {
   "cell_type": "code",
   "execution_count": null,
   "metadata": {},
   "outputs": [],
   "source": [
    "alt.Chart(temps).mark_rect().encode(\n",
    "    x=alt.X('date:O', timeUnit='hours'),\n",
    "    y=alt.Y('date:O', timeUnit='month'),\n",
    "    color='mean(temp):Q'\n",
    ")"
   ]
  },
  {
   "cell_type": "markdown",
   "metadata": {},
   "source": [
    "This kind of transform can be quite useful when working with temporal data.\n",
    "\n",
    "More information on ``timeUnit`` is available here: https://altair-viz.github.io/user_guide/transform.html#timeunit-transform"
   ]
  }
 ],
 "metadata": {
  "kernelspec": {
   "display_name": "Python 3",
   "language": "python",
   "name": "python3"
  },
  "language_info": {
   "codemirror_mode": {
    "name": "ipython",
    "version": 3
   },
   "file_extension": ".py",
   "mimetype": "text/x-python",
   "name": "python",
   "nbconvert_exporter": "python",
   "pygments_lexer": "ipython3",
   "version": "3.6.5"
  }
 },
 "nbformat": 4,
 "nbformat_minor": 2
}
